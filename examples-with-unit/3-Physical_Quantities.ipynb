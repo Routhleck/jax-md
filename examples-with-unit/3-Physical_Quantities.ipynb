{
  "cells": [
    {
      "cell_type": "markdown",
      "metadata": {
        "colab_type": "text",
        "id": "view-in-github"
      },
      "source": [
        "<a href=\"https://colab.research.google.com/github/routhleck/jax-md/blob/main/examples-with-unit/3-Physical_Quantities.ipynb\" target=\"_parent\"><img src=\"https://colab.research.google.com/assets/colab-badge.svg\" alt=\"Open In Colab\"/></a>"
      ]
    },
    {
      "cell_type": "markdown",
      "metadata": {
        "id": "3vDv-bgRMPb4"
      },
      "source": [
        "#Computing physical quantities"
      ]
    },
    {
      "cell_type": "code",
      "execution_count": 1,
      "metadata": {
        "cellView": "form",
        "id": "ugRhZbMfEyGO"
      },
      "outputs": [
        {
          "name": "stderr",
          "output_type": "stream",
          "text": [
            "c:\\routhleck_app\\miniconda\\envs\\jax-md\\lib\\site-packages\\tqdm\\auto.py:21: TqdmWarning: IProgress not found. Please update jupyter and ipywidgets. See https://ipywidgets.readthedocs.io/en/stable/user_install.html\n",
            "  from .autonotebook import tqdm as notebook_tqdm\n"
          ]
        }
      ],
      "source": [
        "#@title Imports and Definitions\n",
        "\n",
        "#!pip install jax-md\n",
        "# !pip install -q git+https://www.github.com/google/jax-md\n",
        "\n",
        "import numpy as onp\n",
        "\n",
        "import jax.numpy as jnp\n",
        "from jax import config\n",
        "config.update('jax_enable_x64', True)\n",
        "\n",
        "from jax import random\n",
        "from jax import jit, lax, grad, vmap, hessian\n",
        "import jax.scipy as jsp\n",
        "import brainstate as bst\n",
        "import brainunit as u\n",
        "\n",
        "from jax_md import space, energy, smap, simulate, minimize, util, elasticity, quantity, partition\n",
        "from jax_md.colab_tools import renderer\n",
        "\n",
        "f32 = jnp.float32\n",
        "f64 = jnp.float64\n",
        "\n",
        "from functools import partial\n",
        "\n",
        "import matplotlib\n",
        "import matplotlib.pyplot as plt\n",
        "plt.rcParams.update({'font.size': 16})\n",
        "\n",
        "def format_plot(x, y):  \n",
        "  plt.grid(True)\n",
        "  plt.xlabel(x, fontsize=20)\n",
        "  plt.ylabel(y, fontsize=20)\n",
        "  \n",
        "def finalize_plot(shape=(1, 0.7)):\n",
        "  plt.gcf().set_size_inches(\n",
        "    shape[0] * 1.5 * plt.gcf().get_size_inches()[1], \n",
        "    shape[1] * 1.5 * plt.gcf().get_size_inches()[1])\n",
        "  \n",
        "def run_minimization_while(energy_fn, R_init, shift, max_grad_thresh = 1e-12, max_num_steps=1000000, **kwargs):\n",
        "  init, apply=minimize.fire_descent(jit(energy_fn), shift, **kwargs)\n",
        "  apply = jit(apply)\n",
        "\n",
        "  @jit\n",
        "  def get_maxgrad(state):\n",
        "    return jnp.amax(jnp.abs(state.force))\n",
        "\n",
        "  @jit\n",
        "  def cond_fn(val):\n",
        "    state, i = val\n",
        "    return jnp.logical_and(get_maxgrad(state) > max_grad_thresh, i < max_num_steps)\n",
        "\n",
        "  @jit\n",
        "  def body_fn(val):\n",
        "    state, i = val\n",
        "    return apply(state), i + 1\n",
        "\n",
        "  state = init(R_init)\n",
        "  state, num_iterations = lax.while_loop(cond_fn, body_fn, (state, 0))\n",
        "\n",
        "  return state.position, get_maxgrad(state), num_iterations\n",
        "\n",
        "def run_minimization_while_neighbor_list(energy_fn, neighbor_fn, R_init, shift,  \n",
        "                                         max_grad_thresh = 1e-12, max_num_steps = 1000000, \n",
        "                                         step_inc = 1000, verbose = False, nbrs = None, **kwargs):\n",
        "  if nbrs is None:\n",
        "    nbrs = neighbor_fn.allocate(R_init)\n",
        "\n",
        "  init,apply=minimize.fire_descent(jit(energy_fn), shift, **kwargs)\n",
        "  apply = jit(apply)\n",
        "\n",
        "  @jit\n",
        "  def get_maxgrad(state):\n",
        "    return jnp.amax(jnp.abs(state.force))\n",
        "\n",
        "  @jit\n",
        "  def body_fn(state_nbrs, t):\n",
        "    state, nbrs = state_nbrs\n",
        "    nbrs = neighbor_fn.update(state.position, nbrs)\n",
        "    state = apply(state, neighbor=nbrs)\n",
        "    return (state, nbrs), 0\n",
        "  \n",
        "  state = init(R_init, neighbor=nbrs)\n",
        "  \n",
        "  step = 0\n",
        "  while step < max_num_steps:\n",
        "    rtn_state, _ = lax.scan(body_fn, (state, nbrs), step + jnp.arange(step_inc))\n",
        "    new_state, nbrs = rtn_state\n",
        "    # If the neighbor list overflowed, rebuild it and repeat part of \n",
        "    # the simulation.\n",
        "    if nbrs.did_buffer_overflow:\n",
        "      print('Buffer overflow. Reallocating...')\n",
        "      nbrs = neighbor_fn.allocate(state.position)\n",
        "    else:\n",
        "      state = new_state\n",
        "      step += step_inc\n",
        "      if get_maxgrad(state) <= max_grad_thresh:\n",
        "        break\n",
        "\n",
        "  if verbose:\n",
        "    print('Minimized the energy in {} minimization loops ({} steps each) and reached a final \\\n",
        "maximum gradient of {}'.format(step//step_inc, step_inc, get_maxgrad(state)))\n",
        "\n",
        "  return state.position, get_maxgrad(state), nbrs, step\n",
        "\n",
        "def hessian2dynamicalmatrix(H, masses, species=None, reshape=False):\n",
        "  \"\"\" Convert a Hessian matrix into a dynamical matrix\n",
        "\n",
        "    A Dynamical matrix math:`D_{ij}^{\\alpha \\beta}` is defined by \n",
        "        math:`D_{ij}^{\\alpha \\beta} = H_{ij}^{\\alpha \\beta} / \\sqrt( m_i m_j )`\n",
        "    where math:`i` and math:`j` run over particles, math:`\\alpha` and\n",
        "    math:`\\beta` run over the spatial dimensions, math:`H_{ij}^{\\alpha \\beta}` \n",
        "    is the Hessian matrix, and math:`m_i` is the mass.\n",
        "  \n",
        "  Args:\n",
        "    H: array of shape (N,dimension,N,dimension) representing the Hessian of an \n",
        "        energy function.\n",
        "    masses: array of shape (N,) or (N_species,) giving the mass of each particle\n",
        "        or species type\n",
        "    species: array of shape (N,) giving species information\n",
        "    reshape: boolean. If true, the output is reshaped to be \n",
        "        (N*dimension,N*dimension)\n",
        "\n",
        "  Return:\n",
        "    The dynamical matrix as an array of shape (N,dimension,N,dimension) or \n",
        "      (N*dimension,N*dimension) if reshape=True\n",
        "  \"\"\"\n",
        "  if species is not None:\n",
        "    masses = masses[species]\n",
        "\n",
        "  m_rescale = 1 / jnp.sqrt(masses)\n",
        "  D = jnp.einsum('iajb,i,j->iajb',H, m_rescale, m_rescale)\n",
        "\n",
        "  if reshape:\n",
        "    D = D.reshape(D.shape[0]*D.shape[1], D.shape[0]*D.shape[1])\n",
        "  return D"
      ]
    },
    {
      "cell_type": "markdown",
      "metadata": {
        "id": "1uaI_NafqOxq"
      },
      "source": [
        "Define a system"
      ]
    },
    {
      "cell_type": "code",
      "execution_count": 2,
      "metadata": {
        "id": "lhT_ASPmpeA6"
      },
      "outputs": [
        {
          "name": "stderr",
          "output_type": "stream",
          "text": [
            "C:\\Users\\13107\\AppData\\Local\\Temp\\ipykernel_50572\\3827334422.py:12: UserWarning: Explicitly requested dtype <class 'jax.numpy.float64'>  is not available, and will be truncated to dtype float32. To enable more dtypes, set the jax_enable_x64 configuration option or the JAX_ENABLE_X64 shell environment variable. See https://github.com/jax-ml/jax#current-gotchas for more.\n",
            "  R_init = box_size * random.uniform(key, (N, dimension), dtype=jnp.float64)\n"
          ]
        }
      ],
      "source": [
        "N = 1000\n",
        "dimension = 2\n",
        "\n",
        "# Define boundary conditions\n",
        "density = 0.8 / u.angstrom**dimension\n",
        "\n",
        "box_size = quantity.box_size_at_number_density(N, 0.8, dimension)\n",
        "displacement, shift = space.periodic(box_size) \n",
        "\n",
        "# Define initial positions\n",
        "key = random.PRNGKey(0)\n",
        "R_init = box_size * random.uniform(key, (N, dimension), dtype=jnp.float64)\n",
        "\n",
        "# The system ought to be a 50:50 mixture of two types of particles, one\n",
        "# large and one small.\n",
        "sigma = jnp.array([[1.0, 1.2], [1.2, 1.4]])\n",
        "N_2 = int(N / 2)\n",
        "species = jnp.where(jnp.arange(N) < N_2, 0, 1)\n",
        "diameters = sigma.diagonal()[species]\n",
        "masses = sigma.diagonal() ** dimension\n",
        "\n",
        "# Define energy and neighbor functions\n",
        "neighbor_fn, energy_fn = energy.soft_sphere_neighbor_list(\n",
        "    displacement,\n",
        "    box_size,\n",
        "    species,\n",
        "    sigma,\n",
        "    dr_threshold=0.2*u.angstrom,\n",
        "    format=partition.Sparse)\n",
        "\n",
        "# Allocate the neighbor list\n",
        "nbrs_init = neighbor_fn.allocate(R_init)"
      ]
    },
    {
      "cell_type": "markdown",
      "metadata": {
        "id": "lSAhKaLOlrXL"
      },
      "source": [
        "## Run an NVT simulation"
      ]
    },
    {
      "cell_type": "code",
      "execution_count": 3,
      "metadata": {
        "id": "esFfwp2bRKl-"
      },
      "outputs": [
        {
          "name": "stderr",
          "output_type": "stream",
          "text": [
            "c:\\routhleck_app\\miniconda\\envs\\jax-md\\lib\\site-packages\\jax\\_src\\numpy\\reductions.py:213: UserWarning: Explicitly requested dtype <class 'jax.numpy.float64'> requested in sum is not available, and will be truncated to dtype float32. To enable more dtypes, set the jax_enable_x64 configuration option or the JAX_ENABLE_X64 shell environment variable. See https://github.com/jax-ml/jax#current-gotchas for more.\n",
            "  return _reduction(a, \"sum\", np.sum, lax.add, 0, preproc=_cast_to_numeric,\n",
            "c:\\routhleck_app\\miniconda\\envs\\jax-md\\lib\\site-packages\\jax\\_src\\numpy\\reductions.py:213: UserWarning: Explicitly requested dtype <class 'jax.numpy.float64'> requested in sum is not available, and will be truncated to dtype float32. To enable more dtypes, set the jax_enable_x64 configuration option or the JAX_ENABLE_X64 shell environment variable. See https://github.com/jax-ml/jax#current-gotchas for more.\n",
            "  return _reduction(a, \"sum\", np.sum, lax.add, 0, preproc=_cast_to_numeric,\n"
          ]
        }
      ],
      "source": [
        "dt = 5e-3 * u.fsecond\n",
        "kT = 0.01 * u.fsecond\n",
        "\n",
        "init, apply = simulate.nvt_nose_hoover(energy_fn, shift, dt, kT)\n",
        "state = init(key, R_init, neighbor=nbrs_init)\n",
        "\n",
        "steps = 10000\n",
        "write_every = 100\n",
        "def step_fn(i, state_nbrs_log):\n",
        "  state, nbrs, log = state_nbrs_log\n",
        "  nbrs = nbrs.update(state.position)\n",
        "\n",
        "  # Log information about the simulation.\n",
        "  T = quantity.temperature(momentum=state.momentum)\n",
        "  log['kT'] = log['kT'].at[i].set(T)\n",
        "  H = simulate.nvt_nose_hoover_invariant(energy_fn, state, kT, neighbor=nbrs)\n",
        "  log['H'] = log['H'].at[i].set(H)\n",
        "  # Record positions every `write_every` steps.\n",
        "  log['position'] = lax.cond(i % write_every == 0,\n",
        "                             lambda p: \\\n",
        "                             p.at[i // write_every].set(state.position),\n",
        "                             lambda p: p,\n",
        "                             log['position'])\n",
        "\n",
        "  # Take a simulation step.\n",
        "  state = apply(state, kT=kT, neighbor=nbrs)\n",
        "  \n",
        "  return state, nbrs, log\n",
        "  \n",
        "log = {\n",
        "    'kT': jnp.zeros((steps,)) * u.kelvin,\n",
        "    'H': jnp.zeros((steps,)) * u.eV,\n",
        "    'position': jnp.zeros((steps // write_every,) + R_init.shape) * u.angstrom\n",
        "}\n",
        "\n",
        "state, nbrs, log = lax.fori_loop(0, steps, step_fn, (state, nbrs_init, log))"
      ]
    },
    {
      "cell_type": "code",
      "execution_count": null,
      "metadata": {
        "id": "V6EczqD-eQLN"
      },
      "outputs": [],
      "source": [
        "from jax_md.colab_tools import renderer\n",
        "\n",
        "clrs = [[0.8, 0.8, 1.0], [0.4, 0.2, 1.0]]\n",
        "colors=jnp.array(clrs[0]*N_2 + clrs[1]*N_2).reshape(-1,3)\n",
        "renderer.render(\n",
        "    box_size,\n",
        "    {'particles': renderer.Disk(log['position'], diameter=diameters, color=colors)},\n",
        "    resolution=(512, 512)\n",
        ")"
      ]
    },
    {
      "cell_type": "markdown",
      "metadata": {
        "id": "AjiSqOf1qFGx"
      },
      "source": [
        "### Stress and pressure"
      ]
    },
    {
      "cell_type": "markdown",
      "metadata": {
        "id": "s65BB3Qo0yWw"
      },
      "source": [
        "Calculate the stress tensor"
      ]
    },
    {
      "cell_type": "code",
      "execution_count": 4,
      "metadata": {
        "id": "Mi7W7IPXsQ-7"
      },
      "outputs": [
        {
          "name": "stderr",
          "output_type": "stream",
          "text": [
            "c:\\routhleck_app\\miniconda\\envs\\jax-md\\lib\\site-packages\\jax\\_src\\numpy\\reductions.py:213: UserWarning: Explicitly requested dtype <class 'jax.numpy.float64'> requested in sum is not available, and will be truncated to dtype float32. To enable more dtypes, set the jax_enable_x64 configuration option or the JAX_ENABLE_X64 shell environment variable. See https://github.com/jax-ml/jax#current-gotchas for more.\n",
            "  return _reduction(a, \"sum\", np.sum, lax.add, 0, preproc=_cast_to_numeric,\n"
          ]
        },
        {
          "data": {
            "text/plain": [
              "ArrayImpl([[ 0.06686106, -0.00097949],\n",
              "           [-0.00097949,  0.06656311]], dtype=float32) * 1.602176565 * 10.0^11 * pascal"
            ]
          },
          "execution_count": 4,
          "metadata": {},
          "output_type": "execute_result"
        }
      ],
      "source": [
        "quantity.stress(energy_fn,\n",
        "                state.position, \n",
        "                box_size, \n",
        "                velocity=state.velocity, \n",
        "                neighbor=nbrs)"
      ]
    },
    {
      "cell_type": "markdown",
      "metadata": {
        "id": "lVmOlsGZ00b0"
      },
      "source": [
        "Calculate the pressure"
      ]
    },
    {
      "cell_type": "code",
      "execution_count": 5,
      "metadata": {
        "id": "h72SeyR9dDeA"
      },
      "outputs": [
        {
          "data": {
            "text/plain": [
              "0.05854513 * 1.602176565 * 10.0^11 * pascal"
            ]
          },
          "execution_count": 5,
          "metadata": {},
          "output_type": "execute_result"
        }
      ],
      "source": [
        "quantity.pressure(energy_fn, \n",
        "                  state.position, \n",
        "                  box_size, \n",
        "                  velocity=state.velocity, \n",
        "                  neighbor=nbrs)"
      ]
    }
  ],
  "metadata": {
    "accelerator": "GPU",
    "colab": {
      "authorship_tag": "ABX9TyP9iBcqi1v0sL/2SXppP7+x",
      "include_colab_link": true,
      "provenance": [],
      "toc_visible": true
    },
    "gpuClass": "standard",
    "kernelspec": {
      "display_name": "jax-md",
      "language": "python",
      "name": "python3"
    },
    "language_info": {
      "codemirror_mode": {
        "name": "ipython",
        "version": 3
      },
      "file_extension": ".py",
      "mimetype": "text/x-python",
      "name": "python",
      "nbconvert_exporter": "python",
      "pygments_lexer": "ipython3",
      "version": "3.10.15"
    }
  },
  "nbformat": 4,
  "nbformat_minor": 0
}
